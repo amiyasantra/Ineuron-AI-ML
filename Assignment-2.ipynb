{
 "cells": [
  {
   "cell_type": "markdown",
   "metadata": {},
   "source": [
    "# Task 1:"
   ]
  },
  {
   "cell_type": "code",
   "execution_count": null,
   "metadata": {},
   "outputs": [],
   "source": [
    "1.1 Write a Python Program to implemPython's built-in function reduce "
   ]
  },
  {
   "cell_type": "code",
   "execution_count": null,
   "metadata": {},
   "outputs": [],
   "source": [
    "def my_reduce(function, iterable, initializer=None):\n",
    "    it = iter(iterable)\n",
    "    if initializer is None:\n",
    "        try:\n",
    "            initializer = next(it)\n",
    "        except StopIteration:\n",
    "            raise TypeError('reduce() of empty sequence with no initial value')\n",
    "    accum_value = initializer\n",
    "    for x in it:\n",
    "        accum_value = function(accum_value, x)\n",
    "    return accum_value\n",
    "mylist=[2,3,4,5]\n",
    "my_reduce(lambda x,y:x+y,mylist)\n"
   ]
  },
  {
   "cell_type": "code",
   "execution_count": null,
   "metadata": {},
   "outputs": [],
   "source": [
    "1.2 Write a Python program to implemenPython's built-in function filter"
   ]
  },
  {
   "cell_type": "code",
   "execution_count": 35,
   "metadata": {},
   "outputs": [
    {
     "name": "stdout",
     "output_type": "stream",
     "text": [
      "[2, 4, 6, 8, 10]\n"
     ]
    }
   ],
   "source": [
    "#########################(my filter methode)######################\n",
    "def my_filter(func,sequence):\n",
    "    res=[]\n",
    "    for variable in sequence :\n",
    "        if func(variable):\n",
    "            res.append(variable)\n",
    "    return res\n",
    "########################(validating my filter using is_even function methode)###########\n",
    "def is_even(item):\n",
    "    if item%2==0 :\n",
    "        return True\n",
    "    else :\n",
    "        return False\n",
    "#########################check myfilter function#####################\n",
    "seq=[1,2,3,4,5,6,7,8,9,10]\n",
    "print(my_filter(is_even,seq))"
   ]
  },
  {
   "cell_type": "code",
   "execution_count": null,
   "metadata": {},
   "outputs": [],
   "source": [
    "2.Implement List comprehensions to produce the following listsWrite List comprehensions to produce the following Lists\n",
    "['A', 'C', 'A', 'D', 'G', 'I', ’L’, ‘ D’]\n",
    "['x', 'xx', 'xxx', 'xxxx', 'y', 'yy', 'yyy', 'yyyy', 'z', 'zz', 'zzz', 'zzzz']\n",
    "['x', 'y', 'z', 'xx', 'yy', 'zz', 'xx', 'yy', 'zz', 'xxxx', 'yyyy', 'zzzz']\n",
    "[[2], [3], [4], [3], [4], [5], [4], [5], [6]]\n",
    "[[2, 3, 4, 5], [3, 4, 5, 6], [4, 5, 6, 7], [5, 6, 7, 8]]\n",
    "[(1, 1), (2, 1), (3, 1), (1, 2), (2, 2), (3, 2), (1, 3), (2, 3), (3, 3"
   ]
  },
  {
   "cell_type": "code",
   "execution_count": null,
   "metadata": {},
   "outputs": [],
   "source": [
    "###############################################\n",
    "input_value = ['A','C','A','D','G','I','L']\n",
    "list_comprehenssion = [ alphabet for alphabet in input_value ]\n",
    "print(list_comprehenssion)\n",
    "\n",
    "###############################################\n",
    "input_string = \"ACADGILD\"\n",
    "list_comprehenssion = [ alphabet for alphabet in input_string ]\n",
    "print(list_comprehenssion)\n",
    "###############################################\n",
    "input_list=['x','y','z']\n",
    "comp_list=[i*j for i in input_list for j in range (1,5)]\n",
    "print(comp_list)\n",
    "\n",
    "###############################################\n",
    "input_list=['x','y','z']\n",
    "my_list=[x*i for i in range(1,5) for x in input_list]\n",
    "print(my_list)\n",
    "##############################################\n",
    "my_list=[2,3,4]\n",
    "out_put=[[i+num] for i in my_list for num in range(0,3) ]\n",
    "print(out_put)\n",
    "\n",
    "###############################################\n",
    "\n",
    "input_list = [2,3,4,5]\n",
    "result = [ [item+num for item in input_list] for num in range(0,3)]\n",
    "print(result)\n",
    "\n",
    "###############################################\n",
    "input_list=[1,2,3]\n",
    "out_put=[(j,i) for i in input_list for j in range(1,4)]\n",
    "print(out_put)"
   ]
  },
  {
   "cell_type": "markdown",
   "metadata": {},
   "source": [
    "3:Implement a function longestWord() that takes a list of words and returns the longest one"
   ]
  },
  {
   "cell_type": "code",
   "execution_count": 8,
   "metadata": {},
   "outputs": [
    {
     "name": "stdout",
     "output_type": "stream",
     "text": [
      "Enter a string to check longest word: amiya\n",
      "amiya\n"
     ]
    }
   ],
   "source": [
    "\n",
    "#######################(Own Reduce function to find longest word in given string)##########\n",
    "\n",
    "def my_reduce(function, iterable, initializer=None):\n",
    "    it = iter(iterable)\n",
    "    if initializer is None:\n",
    "        try:\n",
    "            initializer = next(it)\n",
    "        except StopIteration:\n",
    "            raise TypeError('reduce() of empty sequence with no initial value')\n",
    "    accum_value = initializer\n",
    "    for x in it:\n",
    "        accum_value = function(accum_value, x)\n",
    "    return accum_value\n",
    "\n",
    "#########################(recursive Function to call by my_reduce method)#######\n",
    "\n",
    "def longest_word_fun(first_word, second_word):              # Defining a methode name longest_word_fun and pussing  2 arguments \n",
    "    if(len(first_word)>len(second_word)):                   # checking length of given words taken through methode parameters\n",
    "        return first_word                                   # returning word depending on condition\n",
    "    else:\n",
    "        return second_word                                  # returning word depending on condition\n",
    "    \n",
    "##########################(Main program)######################\n",
    "\n",
    "user_input =input(\"Enter a string to check longest word: \") # Taking a input string from user\n",
    "iput_converted_list=user_input.split()                      # convert string to list using .split() predefine methode\n",
    "if(len(iput_converted_list)==0):                            # check conderted list is empty or not\n",
    "    print(\"Your list is empty!kindly provied some value in input string!\")  #Printing messages if list is empty\n",
    "\n",
    "longest_word=my_reduce(longest_word_fun,iput_converted_list) # calling my own reduce function to find longest word \n",
    "print(\"longest word is: \" + longest_word)                    # printing the longest word"
   ]
  },
  {
   "cell_type": "markdown",
   "metadata": {},
   "source": [
    "# Task 2:"
   ]
  },
  {
   "cell_type": "code",
   "execution_count": null,
   "metadata": {},
   "outputs": [],
   "source": [
    "1.1\n",
    "Write a Python Program(with class concepts) to find the area of the triangle using the below\n",
    "formula.\n",
    "area = (s*(s-a)*(s-b)*(s-c)) ** 0.5\n",
    "Function to take the length of the sides of triangle from user should be defined in the parent\n",
    "class and function to calculate the area should be defined in subclass.\n"
   ]
  },
  {
   "cell_type": "code",
   "execution_count": 19,
   "metadata": {},
   "outputs": [
    {
     "name": "stdout",
     "output_type": "stream",
     "text": [
      "Initialised inherite property of parent class\n",
      "Initialised Triagle parent class by [5,5,5]\n",
      "Area of triangle = 10.825317547305483\n"
     ]
    }
   ],
   "source": [
    "###################(user define parent class)##################\n",
    "class Triangle_parent:                       # Define Triangle_parent class  \n",
    "    def __init__(self, side1, side2, side3): # useing a predefine __init__ method to get and store side value of tringle\n",
    "        self.side1 = side1                  \n",
    "        self.side2 = side2\n",
    "        self.side3 = side3\n",
    "        print (\"Initialised Triagle parent class by [\" +  str(side1) + \",\" + str(side2) + \",\" + str(side3) + \"]\")\n",
    "\n",
    "##################(user define child class)###################\n",
    "\n",
    "class Triangle_Inherit(Triangle_parent):     # Define Triangle_Inherit class with inherite property of Triangle_parent class\n",
    " \n",
    " def __init__(self, side1, side2, side3):    # useing a predefine __init__ method to get and store side value of tringle\n",
    "        print (\"Initialised inherite property of parent class\" )\n",
    "        super(Triangle_Inherit, self).__init__(side1, side2, side3) # Initialised inherite property of parent class using super class\n",
    "        \n",
    " def area(self):                             # define a area methode to claulate tingle area\n",
    "    s = (self.side1 + self.side2 + self.side3)/2 # calculating half perimeter \n",
    "    return (s*(s-self.side1)*(s-self.side2)*(s-self.side3))**0.5    # return area of triangle using herons formula\n",
    "\n",
    "##################(Main Methode)##############################\n",
    "\n",
    "Triangle = Triangle_Inherit(5,5,5)                    # define a Triangle object  \n",
    "print (\"Area of triangle = \" + str(Triangle.area()) ) # printing the area of triangle"
   ]
  },
  {
   "cell_type": "code",
   "execution_count": null,
   "metadata": {},
   "outputs": [],
   "source": [
    "1.2\n",
    "Write a function filter_long_words() that takes a list of words and an integer n and returns the list\n",
    "of words that are longer than n."
   ]
  },
  {
   "cell_type": "code",
   "execution_count": null,
   "metadata": {},
   "outputs": [],
   "source": [
    "#########################(user define methode)######################\n",
    "def find_words(list_words,integer):      # define a methode to find word length grater then provided length\n",
    "    return list(filter(lambda word:len(word)>integer,list_words)) # using lambda function to find list of word grater the integer value\n",
    "\n",
    "##########################(main methode)##########################\n",
    "word=input(\"Enter a string:\")            # taking a input string from user\n",
    "integer=int((input(\"enter an integer value to find word length grater then this \"))) # taking a integer from user\n",
    "list_words=word.split()                  # creating a list from input string \n",
    "\n",
    "if(len(list_words)==0):                  # chcking input list is empty or not\n",
    "    print(\"input list is empty kindly provide some value to it!\")\n",
    "else:\n",
    "    print(find_words(list_words,integer)) # calling find_words function to to find list of word grater then provided length  \n",
    "\n"
   ]
  },
  {
   "cell_type": "code",
   "execution_count": null,
   "metadata": {},
   "outputs": [],
   "source": [
    "2.1\n",
    "Write a Python program using function concept that maps list of words into a list of integers\n",
    "representing the lengths of the corresponding words.\n",
    "Hint: ​If a list [ ab,cde,erty] is passed on to the python function output should come as [2,3,4]\n",
    "Here 2,3 and 4 are the lengths of the words in the list."
   ]
  },
  {
   "cell_type": "code",
   "execution_count": null,
   "metadata": {},
   "outputs": [],
   "source": [
    "##################(Method to map word to word length)#######\n",
    "def word_length(list_words):\n",
    "    return list(map(lambda x: len(x), list_words))\n",
    "\n",
    "\n",
    "####################(main method)############################\n",
    "word=input(\"Enter a string:\")            # taking a input string from user\n",
    "list_words=word.split()                  # creating a list from input string \n",
    "if(len(list_words)==0):                  # chcking input list is empty or not\n",
    "    print(\"input list is empty kindly provide some value to it!\")\n",
    "else:\n",
    "    print (\"word lengths:::: \" + str(word_length(list_words)))  # calling word_length function to map word to word_length\n",
    "\n"
   ]
  },
  {
   "cell_type": "code",
   "execution_count": null,
   "metadata": {},
   "outputs": [],
   "source": [
    "2.2 \n",
    "Write a Python function which takes a character (i.e. a string of length 1) and returns True if it is\n",
    "a vowel, False otherwise."
   ]
  },
  {
   "cell_type": "code",
   "execution_count": null,
   "metadata": {},
   "outputs": [],
   "source": [
    "####################(method to check char is vowel and return True/False)############################\n",
    "def vowel_check(char):\n",
    "    \n",
    "    if(char == 'a' or char == 'e' or char == 'i' or char == 'o' or char == 'u'):\n",
    "        \n",
    "        return True\n",
    "    else:\n",
    "        return False\n",
    "#######################(Main methode)################################\n",
    "char = input(\"Enter character: \"); # Take user input\n",
    "if (char.isalpha() == False):      # If Invalid input, exit\n",
    "    exit();\n",
    "if (vowel_check(char)): # calling vowel_check methode to check alphabtl is  vowel or not\n",
    "    print(char, \"is a vowel.\");\n",
    "else:\n",
    "    print(char, \"is not a vowel.\"); "
   ]
  }
 ],
 "metadata": {
  "kernelspec": {
   "display_name": "Python 3",
   "language": "python",
   "name": "python3"
  },
  "language_info": {
   "codemirror_mode": {
    "name": "ipython",
    "version": 3
   },
   "file_extension": ".py",
   "mimetype": "text/x-python",
   "name": "python",
   "nbconvert_exporter": "python",
   "pygments_lexer": "ipython3",
   "version": "3.7.4"
  }
 },
 "nbformat": 4,
 "nbformat_minor": 2
}
